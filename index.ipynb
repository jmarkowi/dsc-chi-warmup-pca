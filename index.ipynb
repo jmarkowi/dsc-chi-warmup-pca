{
 "cells": [
  {
   "cell_type": "markdown",
   "metadata": {},
   "source": [
    "# PCA Practice\n",
    "\n",
    "## Concepts\n",
    "\n",
    "#### Give at least two reasons why one might use PCA.  Be sure to include discussion of what problem PCA solves and how."
   ]
  },
  {
   "cell_type": "markdown",
   "metadata": {},
   "source": [
    "PCA addresses the 'curse of dimensionality' by reducing the number of features in a dataset used to fit a model. PCA finds the principal components of a dataset, which are vectors that account for variance among the features.\n",
    "\n",
    "In addition to reducing dimensions, PCA also guarantees that the principal components have no colinearity issues, which also benefits the model being constructed."
   ]
  },
  {
   "cell_type": "code",
   "execution_count": 1,
   "metadata": {},
   "outputs": [],
   "source": [
    "# Run as-is\n",
    "from sklearn.datasets import make_classification\n",
    "from sklearn.pipeline import Pipeline\n",
    "from sklearn.decomposition import PCA\n",
    "from sklearn.linear_model import LogisticRegression\n",
    "from sklearn.model_selection import train_test_split\n",
    "from sklearn.metrics import f1_score\n",
    "from sklearn.model_selection import cross_validate\n",
    "from sklearn.preprocessing import StandardScaler\n",
    "import matplotlib.pyplot as plt\n",
    "import numpy as np\n",
    "\n",
    "%matplotlib inline\n",
    "import pickle as pkl\n",
    "\n",
    "with open('test_obj/X.pkl', 'rb') as f:\n",
    "    X = pkl.load(f)\n",
    "\n",
    "with open('test_obj/y.pkl', 'rb') as f:\n",
    "    y = pkl.load(f)  \n",
    "\n",
    "from test_scripts.test_class import Test\n",
    "test = Test()"
   ]
  },
  {
   "cell_type": "markdown",
   "metadata": {},
   "source": []
  },
  {
   "cell_type": "markdown",
   "metadata": {},
   "source": [
    "## Application\n",
    "\n",
    "### Data Exploration\n",
    "\n",
    "- Turn `X` (a np array of features) into a dataframe.  \n",
    "    - How many features are there? \n",
    "    - How many observations are there?\n",
    "\n",
    "- Turn `y` (a np array of the target) into a df.\n",
    "    - Are the observations in y continuous or discreet?\n",
    "    - Would prediction of y be a regression or classification problem?"
   ]
  },
  {
   "cell_type": "code",
   "execution_count": 2,
   "metadata": {},
   "outputs": [],
   "source": [
    "import pandas as pd"
   ]
  },
  {
   "cell_type": "code",
   "execution_count": 6,
   "metadata": {},
   "outputs": [
    {
     "data": {
      "text/html": [
       "<div>\n",
       "<style scoped>\n",
       "    .dataframe tbody tr th:only-of-type {\n",
       "        vertical-align: middle;\n",
       "    }\n",
       "\n",
       "    .dataframe tbody tr th {\n",
       "        vertical-align: top;\n",
       "    }\n",
       "\n",
       "    .dataframe thead th {\n",
       "        text-align: right;\n",
       "    }\n",
       "</style>\n",
       "<table border=\"1\" class=\"dataframe\">\n",
       "  <thead>\n",
       "    <tr style=\"text-align: right;\">\n",
       "      <th></th>\n",
       "      <th>0</th>\n",
       "      <th>1</th>\n",
       "      <th>2</th>\n",
       "      <th>3</th>\n",
       "      <th>4</th>\n",
       "      <th>5</th>\n",
       "      <th>6</th>\n",
       "      <th>7</th>\n",
       "      <th>8</th>\n",
       "      <th>9</th>\n",
       "      <th>...</th>\n",
       "      <th>190</th>\n",
       "      <th>191</th>\n",
       "      <th>192</th>\n",
       "      <th>193</th>\n",
       "      <th>194</th>\n",
       "      <th>195</th>\n",
       "      <th>196</th>\n",
       "      <th>197</th>\n",
       "      <th>198</th>\n",
       "      <th>199</th>\n",
       "    </tr>\n",
       "  </thead>\n",
       "  <tbody>\n",
       "    <tr>\n",
       "      <th>0</th>\n",
       "      <td>55.921010</td>\n",
       "      <td>15.960047</td>\n",
       "      <td>79.847579</td>\n",
       "      <td>-74.575722</td>\n",
       "      <td>62.516598</td>\n",
       "      <td>53.176317</td>\n",
       "      <td>-51.041311</td>\n",
       "      <td>11.320495</td>\n",
       "      <td>41.056206</td>\n",
       "      <td>-53.242694</td>\n",
       "      <td>...</td>\n",
       "      <td>-17.650115</td>\n",
       "      <td>-178.500520</td>\n",
       "      <td>24.571521</td>\n",
       "      <td>-57.691007</td>\n",
       "      <td>-118.814451</td>\n",
       "      <td>96.518514</td>\n",
       "      <td>-135.794932</td>\n",
       "      <td>23.756274</td>\n",
       "      <td>-88.186923</td>\n",
       "      <td>-154.113549</td>\n",
       "    </tr>\n",
       "    <tr>\n",
       "      <th>1</th>\n",
       "      <td>-73.137546</td>\n",
       "      <td>262.099610</td>\n",
       "      <td>203.580404</td>\n",
       "      <td>69.886526</td>\n",
       "      <td>-87.645923</td>\n",
       "      <td>-37.853021</td>\n",
       "      <td>162.116358</td>\n",
       "      <td>-6.703982</td>\n",
       "      <td>-68.917502</td>\n",
       "      <td>-113.079926</td>\n",
       "      <td>...</td>\n",
       "      <td>146.513688</td>\n",
       "      <td>138.809206</td>\n",
       "      <td>-31.582876</td>\n",
       "      <td>-12.368799</td>\n",
       "      <td>123.042927</td>\n",
       "      <td>9.881037</td>\n",
       "      <td>80.389418</td>\n",
       "      <td>9.012742</td>\n",
       "      <td>-235.405012</td>\n",
       "      <td>-114.050512</td>\n",
       "    </tr>\n",
       "    <tr>\n",
       "      <th>2</th>\n",
       "      <td>-69.267421</td>\n",
       "      <td>-88.897460</td>\n",
       "      <td>-278.270517</td>\n",
       "      <td>31.852727</td>\n",
       "      <td>78.004654</td>\n",
       "      <td>43.549353</td>\n",
       "      <td>114.118687</td>\n",
       "      <td>-7.801539</td>\n",
       "      <td>3.054873</td>\n",
       "      <td>177.264452</td>\n",
       "      <td>...</td>\n",
       "      <td>164.909886</td>\n",
       "      <td>44.116772</td>\n",
       "      <td>-20.406617</td>\n",
       "      <td>87.463821</td>\n",
       "      <td>-31.078816</td>\n",
       "      <td>-54.469739</td>\n",
       "      <td>-155.910400</td>\n",
       "      <td>-8.145598</td>\n",
       "      <td>-80.744555</td>\n",
       "      <td>-70.138429</td>\n",
       "    </tr>\n",
       "    <tr>\n",
       "      <th>3</th>\n",
       "      <td>43.179196</td>\n",
       "      <td>-21.603889</td>\n",
       "      <td>68.748104</td>\n",
       "      <td>-290.428027</td>\n",
       "      <td>-7.420026</td>\n",
       "      <td>23.682904</td>\n",
       "      <td>-200.636222</td>\n",
       "      <td>28.736841</td>\n",
       "      <td>26.592064</td>\n",
       "      <td>0.825606</td>\n",
       "      <td>...</td>\n",
       "      <td>38.956570</td>\n",
       "      <td>35.309093</td>\n",
       "      <td>34.423370</td>\n",
       "      <td>161.662262</td>\n",
       "      <td>68.547606</td>\n",
       "      <td>-9.943278</td>\n",
       "      <td>103.701966</td>\n",
       "      <td>-43.998760</td>\n",
       "      <td>33.854567</td>\n",
       "      <td>-118.591361</td>\n",
       "    </tr>\n",
       "    <tr>\n",
       "      <th>4</th>\n",
       "      <td>-2.371481</td>\n",
       "      <td>-211.755001</td>\n",
       "      <td>-64.853466</td>\n",
       "      <td>148.339519</td>\n",
       "      <td>-49.650926</td>\n",
       "      <td>-46.684332</td>\n",
       "      <td>-187.940417</td>\n",
       "      <td>-11.942910</td>\n",
       "      <td>-17.884681</td>\n",
       "      <td>100.247822</td>\n",
       "      <td>...</td>\n",
       "      <td>-357.976799</td>\n",
       "      <td>154.390629</td>\n",
       "      <td>-34.631452</td>\n",
       "      <td>-49.448503</td>\n",
       "      <td>54.648795</td>\n",
       "      <td>-80.964527</td>\n",
       "      <td>100.676255</td>\n",
       "      <td>-24.848862</td>\n",
       "      <td>84.467553</td>\n",
       "      <td>37.958813</td>\n",
       "    </tr>\n",
       "  </tbody>\n",
       "</table>\n",
       "<p>5 rows × 200 columns</p>\n",
       "</div>"
      ],
      "text/plain": [
       "         0           1           2           3          4          5    \\\n",
       "0  55.921010   15.960047   79.847579  -74.575722  62.516598  53.176317   \n",
       "1 -73.137546  262.099610  203.580404   69.886526 -87.645923 -37.853021   \n",
       "2 -69.267421  -88.897460 -278.270517   31.852727  78.004654  43.549353   \n",
       "3  43.179196  -21.603889   68.748104 -290.428027  -7.420026  23.682904   \n",
       "4  -2.371481 -211.755001  -64.853466  148.339519 -49.650926 -46.684332   \n",
       "\n",
       "          6          7          8           9    ...         190         191  \\\n",
       "0  -51.041311  11.320495  41.056206  -53.242694  ...  -17.650115 -178.500520   \n",
       "1  162.116358  -6.703982 -68.917502 -113.079926  ...  146.513688  138.809206   \n",
       "2  114.118687  -7.801539   3.054873  177.264452  ...  164.909886   44.116772   \n",
       "3 -200.636222  28.736841  26.592064    0.825606  ...   38.956570   35.309093   \n",
       "4 -187.940417 -11.942910 -17.884681  100.247822  ... -357.976799  154.390629   \n",
       "\n",
       "         192         193         194        195         196        197  \\\n",
       "0  24.571521  -57.691007 -118.814451  96.518514 -135.794932  23.756274   \n",
       "1 -31.582876  -12.368799  123.042927   9.881037   80.389418   9.012742   \n",
       "2 -20.406617   87.463821  -31.078816 -54.469739 -155.910400  -8.145598   \n",
       "3  34.423370  161.662262   68.547606  -9.943278  103.701966 -43.998760   \n",
       "4 -34.631452  -49.448503   54.648795 -80.964527  100.676255 -24.848862   \n",
       "\n",
       "          198         199  \n",
       "0  -88.186923 -154.113549  \n",
       "1 -235.405012 -114.050512  \n",
       "2  -80.744555  -70.138429  \n",
       "3   33.854567 -118.591361  \n",
       "4   84.467553   37.958813  \n",
       "\n",
       "[5 rows x 200 columns]"
      ]
     },
     "metadata": {},
     "output_type": "display_data"
    },
    {
     "name": "stdout",
     "output_type": "stream",
     "text": [
      "(10000, 200)\n"
     ]
    }
   ],
   "source": [
    "X_df = pd.DataFrame(X)\n",
    "display(X_df.head())\n",
    "print(X_df.shape)"
   ]
  },
  {
   "cell_type": "markdown",
   "metadata": {},
   "source": [
    "X has 200 features and 10,000 observations."
   ]
  },
  {
   "cell_type": "code",
   "execution_count": 8,
   "metadata": {},
   "outputs": [
    {
     "data": {
      "text/plain": [
       "0    5020\n",
       "1    4980\n",
       "dtype: int64"
      ]
     },
     "metadata": {},
     "output_type": "display_data"
    },
    {
     "name": "stdout",
     "output_type": "stream",
     "text": [
      "(10000, 1)\n"
     ]
    }
   ],
   "source": [
    "y_df = pd.DataFrame(y)\n",
    "display(y_df.value_counts())\n",
    "print(y_df.shape)"
   ]
  },
  {
   "cell_type": "markdown",
   "metadata": {},
   "source": [
    "Target observations are discrete; prediction of y represents a classification problem."
   ]
  },
  {
   "cell_type": "markdown",
   "metadata": {},
   "source": [
    "### PCA Exploration\n",
    "\n",
    "#### Run the following steps\n",
    "- Train Test Split, `random_state` = 1\n",
    "\n",
    "- Scale w/ StandardScaler\n",
    "\n",
    "- For the full PCA transformation (ie, w/o specifying `n_components` number)\n",
    "on `X_train`, store the explained variance ratio for each component \n",
    "in `evr`\n",
    "\n",
    "- Graph `evr`\n",
    "\n",
    "- Re-graph the first few components in order to focus on them (you'll see why)\n",
    "\n",
    "How many principal components does it look like we should choose?"
   ]
  },
  {
   "cell_type": "code",
   "execution_count": 36,
   "metadata": {},
   "outputs": [],
   "source": [
    "X_train, X_test, y_train, y_test = train_test_split(X, y, random_state=1)"
   ]
  },
  {
   "cell_type": "code",
   "execution_count": 37,
   "metadata": {},
   "outputs": [],
   "source": [
    "ss = StandardScaler()\n",
    "\n",
    "X_train = ss.fit_transform(X_train)\n",
    "X_test = ss.transform(X_test)"
   ]
  },
  {
   "cell_type": "code",
   "execution_count": 38,
   "metadata": {},
   "outputs": [],
   "source": [
    "pca = PCA()\n",
    "pca.fit(X_train)\n",
    "\n",
    "evr = pca.explained_variance_ratio_"
   ]
  },
  {
   "cell_type": "code",
   "execution_count": 39,
   "metadata": {
    "scrolled": true
   },
   "outputs": [
    {
     "data": {
      "text/plain": [
       "array([1.56178567e-02, 1.35534066e-02, 1.20208922e-02, 9.68228404e-03,\n",
       "       8.55928752e-03, 6.89396024e-03, 6.62468903e-03, 6.59802224e-03,\n",
       "       6.56557124e-03, 6.50142362e-03, 6.45835788e-03, 6.43613267e-03,\n",
       "       6.41137914e-03, 6.39310368e-03, 6.35646590e-03, 6.32928320e-03,\n",
       "       6.32004944e-03, 6.27071955e-03, 6.23674981e-03, 6.22895225e-03,\n",
       "       6.18636128e-03, 6.16298948e-03, 6.15108933e-03, 6.14465353e-03,\n",
       "       6.13074245e-03, 6.07427761e-03, 6.05770700e-03, 6.04406033e-03,\n",
       "       6.03369450e-03, 6.00723833e-03, 5.99626311e-03, 5.96081732e-03,\n",
       "       5.93048706e-03, 5.90868512e-03, 5.89904272e-03, 5.89624642e-03,\n",
       "       5.87600137e-03, 5.87047987e-03, 5.85071002e-03, 5.83029831e-03,\n",
       "       5.80419492e-03, 5.77786869e-03, 5.76093287e-03, 5.75349634e-03,\n",
       "       5.72898333e-03, 5.72038169e-03, 5.70015984e-03, 5.66751819e-03,\n",
       "       5.65842397e-03, 5.64936694e-03, 5.64157610e-03, 5.61077344e-03,\n",
       "       5.59465408e-03, 5.58266796e-03, 5.56968627e-03, 5.54746633e-03,\n",
       "       5.52880441e-03, 5.52032815e-03, 5.50350239e-03, 5.48758199e-03,\n",
       "       5.47375586e-03, 5.47136489e-03, 5.46001610e-03, 5.44215183e-03,\n",
       "       5.42360095e-03, 5.41396066e-03, 5.37910655e-03, 5.37079321e-03,\n",
       "       5.36517139e-03, 5.35206274e-03, 5.33571649e-03, 5.33098950e-03,\n",
       "       5.31079778e-03, 5.30715050e-03, 5.29252900e-03, 5.27541674e-03,\n",
       "       5.25839660e-03, 5.24562286e-03, 5.23811565e-03, 5.22732898e-03,\n",
       "       5.19726700e-03, 5.18059101e-03, 5.16928439e-03, 5.15378514e-03,\n",
       "       5.12520656e-03, 5.12287874e-03, 5.11874309e-03, 5.11073599e-03,\n",
       "       5.09268065e-03, 5.07730592e-03, 5.06529530e-03, 5.04821619e-03,\n",
       "       5.04459907e-03, 5.02936678e-03, 5.00321823e-03, 4.98762835e-03,\n",
       "       4.97824498e-03, 4.97784131e-03, 4.96079752e-03, 4.95034209e-03,\n",
       "       4.94391162e-03, 4.89893112e-03, 4.89467180e-03, 4.87288557e-03,\n",
       "       4.86885466e-03, 4.85173878e-03, 4.84769383e-03, 4.84023487e-03,\n",
       "       4.80709920e-03, 4.79596573e-03, 4.78235036e-03, 4.77339080e-03,\n",
       "       4.76413750e-03, 4.74726074e-03, 4.74427719e-03, 4.71573454e-03,\n",
       "       4.70468502e-03, 4.69380953e-03, 4.68114155e-03, 4.66341489e-03,\n",
       "       4.65521510e-03, 4.63259332e-03, 4.62772210e-03, 4.61351045e-03,\n",
       "       4.60626366e-03, 4.58987462e-03, 4.58072458e-03, 4.56658659e-03,\n",
       "       4.55759397e-03, 4.55309035e-03, 4.54760822e-03, 4.52864431e-03,\n",
       "       4.50439368e-03, 4.49222860e-03, 4.48319169e-03, 4.46540698e-03,\n",
       "       4.45368283e-03, 4.43787727e-03, 4.41838658e-03, 4.41662465e-03,\n",
       "       4.39575616e-03, 4.38188313e-03, 4.37321500e-03, 4.35146678e-03,\n",
       "       4.34757699e-03, 4.33453324e-03, 4.32660693e-03, 4.31243578e-03,\n",
       "       4.29654235e-03, 4.28557844e-03, 4.28241205e-03, 4.23796196e-03,\n",
       "       4.23311903e-03, 4.22512783e-03, 4.20651875e-03, 4.17510705e-03,\n",
       "       4.15530993e-03, 4.14881719e-03, 4.13193391e-03, 4.12766451e-03,\n",
       "       4.11318968e-03, 4.09698772e-03, 4.08261443e-03, 4.07371718e-03,\n",
       "       4.04529972e-03, 4.03637207e-03, 4.02352856e-03, 4.00981301e-03,\n",
       "       3.99646019e-03, 3.96404708e-03, 3.95185924e-03, 3.94296684e-03,\n",
       "       3.92854936e-03, 3.92188353e-03, 3.91117936e-03, 3.87339881e-03,\n",
       "       3.85956897e-03, 3.83591274e-03, 3.81160027e-03, 3.78875921e-03,\n",
       "       3.78209722e-03, 3.76150999e-03, 3.75158214e-03, 3.70884966e-03,\n",
       "       3.69244403e-03, 3.67084146e-03, 3.66281061e-03, 3.59946197e-03,\n",
       "       3.54284086e-03, 3.50379152e-03, 3.32481922e-03, 3.05849673e-03,\n",
       "       2.74400227e-03, 2.25300702e-03, 1.86814746e-03, 1.60773735e-03,\n",
       "       3.13656935e-33, 5.27079677e-34, 4.89065166e-34, 3.72129785e-34])"
      ]
     },
     "execution_count": 39,
     "metadata": {},
     "output_type": "execute_result"
    }
   ],
   "source": [
    "evr"
   ]
  },
  {
   "cell_type": "code",
   "execution_count": 40,
   "metadata": {},
   "outputs": [
    {
     "data": {
      "text/plain": [
       "200"
      ]
     },
     "execution_count": 40,
     "metadata": {},
     "output_type": "execute_result"
    }
   ],
   "source": [
    "len(evr)"
   ]
  },
  {
   "cell_type": "markdown",
   "metadata": {},
   "source": [
    "Does this mean that, without a stopping criterion, PCA generates as many PCs as there were original features?"
   ]
  },
  {
   "cell_type": "code",
   "execution_count": 44,
   "metadata": {},
   "outputs": [
    {
     "data": {
      "image/png": "[encoded data removed]",
      "text/plain": [
       "<Figure size 432x288 with 1 Axes>"
      ]
     },
     "metadata": {
      "needs_background": "light"
     },
     "output_type": "display_data"
    }
   ],
   "source": [
    "plt.plot(range(1,201), evr)\n",
    "plt.title('Cumulative Variance Explained')\n",
    "plt.ylabel('Variance')\n",
    "plt.xlabel('Pricipal Components');"
   ]
  },
  {
   "cell_type": "code",
   "execution_count": 45,
   "metadata": {},
   "outputs": [
    {
     "data": {
      "image/png": "[encoded data removed]",
      "text/plain": [
       "<Figure size 432x288 with 1 Axes>"
      ]
     },
     "metadata": {
      "needs_background": "light"
     },
     "output_type": "display_data"
    }
   ],
   "source": [
    "plt.plot(range(1, 51), evr[:50])\n",
    "plt.title('Cumulative Variance of First 50 PCs')\n",
    "plt.ylabel('Variance')\n",
    "plt.xlabel('Pricipal Components');"
   ]
  },
  {
   "cell_type": "markdown",
   "metadata": {},
   "source": [
    "### Calculate Train and Test Error\n",
    "\n",
    "#### Run the following:\n",
    "- for the first 50 principal components,\n",
    "  - scale the data\n",
    "  - generate the number of principal components and transform them into features\n",
    "  - Using Logistic Regression with default inputs, generate train and test predictions through 10-fold cross validation\n",
    "    - *Hint:* use `sklearn.cross_validate`\n",
    "    - *Level up:* ideally, you would scale and PCA on each training fold (why?).  Use a pipeline!\n",
    "  - graph the means of the train and test predictions for each number of principal component\n",
    "\n",
    "#### Interpret the graph  \n",
    "- How many principle components should we choose based on this?\n",
    "- Is overfitting or underfitting a problem?\n",
    "\n",
    "#### Level up\n",
    "- Repeat the above but don't scale the data.  Intepret the results."
   ]
  },
  {
   "cell_type": "code",
   "execution_count": 43,
   "metadata": {},
   "outputs": [],
   "source": [
    "# Initialize lists to store cv results\n",
    "train_means = []\n",
    "test_means = []\n",
    "\n",
    "# Make a new pipeline for each value of n_components [1, 50]\n",
    "for n in range(1, 51):\n",
    "    pipe = Pipeline(steps=[\n",
    "        ('ss', StandardScaler()),\n",
    "        ('pca', PCA(n_components=n)),\n",
    "        ('logreg', LogisticRegression())\n",
    "    ])\n",
    "    # Cross validation\n",
    "    results = cross_validate(estimator=pipe, X=X_train, y=y_train, return_train_score=True)\n",
    "    \n",
    "    # Add scores to the lists\n",
    "    train_means.append(results['train_score'].mean())\n",
    "    test_means.append(results['test_score'].mean())"
   ]
  },
  {
   "cell_type": "code",
   "execution_count": 50,
   "metadata": {},
   "outputs": [
    {
     "data": {
      "image/png": "[encoded data removed]",
      "text/plain": [
       "<Figure size 432x288 with 1 Axes>"
      ]
     },
     "metadata": {
      "needs_background": "light"
     },
     "output_type": "display_data"
    }
   ],
   "source": [
    "plt.plot(range(1, 51), train_means, label='Training mean')\n",
    "plt.plot(range(1, 51), test_means, label='Testing mean')\n",
    "plt.legend()\n",
    "plt.title('CV scores by Number of PCs')\n",
    "plt.ylabel('CV score')\n",
    "plt.xlabel('Number of PCs used in PCA');"
   ]
  },
  {
   "cell_type": "markdown",
   "metadata": {},
   "source": [
    "**Conclusion:**\n",
    "\n",
    "Based on this graph, we should choose around 20 PCs. After this, further improvements in CV score are offset by potential issues with overfitting."
   ]
  },
  {
   "cell_type": "code",
   "execution_count": null,
   "metadata": {},
   "outputs": [],
   "source": []
  }
 ],
 "metadata": {
  "kernelspec": {
   "display_name": "Python 3",
   "language": "python",
   "name": "python3"
  },
  "language_info": {
   "codemirror_mode": {
    "name": "ipython",
    "version": 3
   },
   "file_extension": ".py",
   "mimetype": "text/x-python",
   "name": "python",
   "nbconvert_exporter": "python",
   "pygments_lexer": "ipython3",
   "version": "3.8.5"
  },
  "toc": {
   "base_numbering": 1,
   "nav_menu": {},
   "number_sections": false,
   "sideBar": true,
   "skip_h1_title": true,
   "title_cell": "Table of Contents",
   "title_sidebar": "Contents",
   "toc_cell": false,
   "toc_position": {},
   "toc_section_display": true,
   "toc_window_display": false
  },
  "varInspector": {
   "cols": {
    "lenName": 16,
    "lenType": 16,
    "lenVar": 40
   },
   "kernels_config": {
    "python": {
     "delete_cmd_postfix": "",
     "delete_cmd_prefix": "del ",
     "library": "var_list.py",
     "varRefreshCmd": "print(var_dic_list())"
    },
    "r": {
     "delete_cmd_postfix": ") ",
     "delete_cmd_prefix": "rm(",
     "library": "var_list.r",
     "varRefreshCmd": "cat(var_dic_list()) "
    }
   },
   "types_to_exclude": [
    "module",
    "function",
    "builtin_function_or_method",
    "instance",
    "_Feature"
   ],
   "window_display": false
  }
 },
 "nbformat": 4,
 "nbformat_minor": 4
}
